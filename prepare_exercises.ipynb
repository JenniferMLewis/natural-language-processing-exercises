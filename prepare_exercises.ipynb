{
 "cells": [
  {
   "cell_type": "code",
   "execution_count": 1,
   "metadata": {},
   "outputs": [],
   "source": [
    "# import nltk\n",
    "import numpy as np\n",
    "import pandas as pd\n",
    "# import regex as re\n",
    "# import unicodedata\n",
    "\n",
    "# from nltk.corpus import stopwords\n",
    "# from unicodedata import normalize\n",
    "\n",
    "from acquire import *\n",
    "from prepare import *\n",
    "\n",
    "# shhhhhhh\n",
    "import warnings\n",
    "warnings.filterwarnings(\"ignore\")\n"
   ]
  },
  {
   "cell_type": "markdown",
   "metadata": {},
   "source": [
    "Define a function named basic_clean. It should take in a string and apply some basic text cleaning to it:\n",
    "\n",
    "Lowercase everything\n",
    "Normalize unicode characters\n",
    "Replace anything that is not a letter, number, whitespace or a single quote.\n"
   ]
  },
  {
   "cell_type": "code",
   "execution_count": 2,
   "metadata": {},
   "outputs": [],
   "source": [
    "test_string = \"I'm really messy text WEll Now! I cOUld' be the MESSIEST@$@!?\""
   ]
  },
  {
   "cell_type": "code",
   "execution_count": 3,
   "metadata": {},
   "outputs": [],
   "source": [
    "# def basic_clean(string):\n",
    "#     '''\n",
    "#     Takes in a String and does basic text cleaning of lowercasing, normalising unicode (using NFKD, ascii, and utf-8), and removes any item that isn't a letter, number, whitespace, or single quote.\n",
    "#     Returns cleaned string.\n",
    "#     '''\n",
    "#     string = string.lower()\n",
    "#     string = normalize('NFKD', string).encode('ascii', 'ignore').decode('utf-8') \n",
    "#     string = re.sub(r'[^a-z0-9\\'\\s]', '', string)\n",
    "#     return string\n",
    "\n"
   ]
  },
  {
   "cell_type": "code",
   "execution_count": 4,
   "metadata": {},
   "outputs": [
    {
     "data": {
      "text/plain": [
       "\"i'm really messy text well now i could' be the messiest\""
      ]
     },
     "execution_count": 4,
     "metadata": {},
     "output_type": "execute_result"
    }
   ],
   "source": [
    "clean_test_string = basic_clean(test_string)\n",
    "clean_test_string"
   ]
  },
  {
   "cell_type": "markdown",
   "metadata": {},
   "source": [
    "Define a function named tokenize. It should take in a string and tokenize all the words in the string.\n",
    "\n"
   ]
  },
  {
   "cell_type": "code",
   "execution_count": 5,
   "metadata": {},
   "outputs": [],
   "source": [
    "# def tokenize(string):\n",
    "#     '''\n",
    "#     Takes in a String, tokenizes (seperates from punctuation) all the words in the string.\n",
    "#     Returns Tokenized String.\n",
    "#     '''\n",
    "#     token = nltk.tokenize.ToktokTokenizer()\n",
    "#     string = token.tokenize(string, return_str=True)\n",
    "#     return string\n"
   ]
  },
  {
   "cell_type": "code",
   "execution_count": 6,
   "metadata": {},
   "outputs": [
    {
     "data": {
      "text/plain": [
       "\"i ' m really messy text well now i could ' be the messiest\""
      ]
     },
     "execution_count": 6,
     "metadata": {},
     "output_type": "execute_result"
    }
   ],
   "source": [
    "token_test_string = tokenize(clean_test_string)\n",
    "token_test_string"
   ]
  },
  {
   "cell_type": "markdown",
   "metadata": {},
   "source": [
    "Define a function named stem. It should accept some text and return the text after applying stemming to all the words.\n",
    "\n"
   ]
  },
  {
   "cell_type": "code",
   "execution_count": 7,
   "metadata": {},
   "outputs": [],
   "source": [
    "# def stem(string):\n",
    "#     '''\n",
    "#     This function will accept a string and break it into individual text, then apply stemming (removes all but the root word [sometimes oddly]) to all the words, rejoin the text into a full string.\n",
    "#     Returns the newly stemmed string.\n",
    "#     [This is good for large file sizes, but accuracy is substantually lower, if you have less data to process or more processing power, consider using lemmatize() instead.]\n",
    "#     '''\n",
    "#     ps = nltk.PorterStemmer()\n",
    "#     stems = [ps.stem(word) for word in string.split(' ')]\n",
    "#     string = ' '.join(stems)\n",
    "#     return string"
   ]
  },
  {
   "cell_type": "code",
   "execution_count": 8,
   "metadata": {},
   "outputs": [
    {
     "data": {
      "text/plain": [
       "\"i ' m realli messi text well now i could ' be the messiest\""
      ]
     },
     "execution_count": 8,
     "metadata": {},
     "output_type": "execute_result"
    }
   ],
   "source": [
    "stem_test_string = stem(token_test_string)\n",
    "stem_test_string"
   ]
  },
  {
   "cell_type": "markdown",
   "metadata": {},
   "source": [
    "Define a function named lemmatize. It should accept some text and return the text after applying lemmatization to each word.\n",
    "\n"
   ]
  },
  {
   "cell_type": "code",
   "execution_count": 9,
   "metadata": {},
   "outputs": [],
   "source": [
    "# def lemmatize(string):\n",
    "#     '''\n",
    "#     FIRST TIME WILL REQUIRE INSTALL OF [ nltk.download('omw-1.4') ] AND [ nltk.download('wordnet') ] IT WILL GIVE YOU AN ERROR TELLING YOU TO INSTALL THEM OTHERWISE.\n",
    "#     This function will accept a string and break it into individual text, then apply lemmatization (replaces a word with it's dictionary form [usually]) to all the words, and rejoin the text into a full string.\n",
    "#     Returns the newly lemmatized string.\n",
    "#     [This is good for smaller file sizes, it has a higher readibility accuracy, but does require more computation power, if you have a lot of data or limited processing power consider stem() instead.]\n",
    "#     '''\n",
    "#     wnl = nltk.stem.WordNetLemmatizer()\n",
    "#     lemma_art = [wnl.lemmatize(word) for word in string.split(' ')]\n",
    "#     string= ' '.join(lemma_art)\n",
    "#     return string"
   ]
  },
  {
   "cell_type": "code",
   "execution_count": 10,
   "metadata": {},
   "outputs": [
    {
     "data": {
      "text/plain": [
       "\"i ' m really messy text well now i could ' be the messiest\""
      ]
     },
     "execution_count": 10,
     "metadata": {},
     "output_type": "execute_result"
    }
   ],
   "source": [
    "lemma_test_string = lemmatize(token_test_string)\n",
    "lemma_test_string"
   ]
  },
  {
   "cell_type": "markdown",
   "metadata": {},
   "source": [
    "Define a function named remove_stopwords. It should accept some text and return the text after removing all the stopwords.\n",
    "\n",
    "This function should define two optional parameters, extra_words and exclude_words. These parameters should define any additional stop words to include, and any words that we don't want to remove.\n",
    "\n"
   ]
  },
  {
   "cell_type": "code",
   "execution_count": 11,
   "metadata": {},
   "outputs": [],
   "source": [
    "# def remove_stopwords(string, extra_words = [], exclude_words= [], language = 'english'):\n",
    "#     '''\n",
    "#     FIRST TIME REQUIRES THE INSTALLATION OF [ nltk.download('stopwords') ] IF NOT INSTALLED IT WILL GIVE YOU AN ERROR SAYING TO INSTALL IT.\n",
    "#     Takes in a string, as well as the option to add extra_words to the words that will be filtered out(stop words), and exclude_words to remove words from the filtered word list(stop words), Also added the ability to change the languge of the stop word list generated (default is english).\n",
    "#     Returns the string with stop words filtered out.\n",
    "#     '''\n",
    "#     stopwords_list = stopwords.words(language)\n",
    "#     if len(extra_words) > 0:\n",
    "#         stopwords_list.append(extra_words)\n",
    "#     if len(exclude_words) > 0:\n",
    "#         stopwords_list.remove(exclude_words)\n",
    "#     words = string.split(' ')\n",
    "#     filtered_words = [word for word in words if word not in stopwords_list]\n",
    "#     string = ' '.join(filtered_words)\n",
    "#     return string\n",
    "    "
   ]
  },
  {
   "cell_type": "code",
   "execution_count": 12,
   "metadata": {},
   "outputs": [
    {
     "data": {
      "text/plain": [
       "'really messy text well could messiest'"
      ]
     },
     "execution_count": 12,
     "metadata": {},
     "output_type": "execute_result"
    }
   ],
   "source": [
    "remove_stopwords(lemma_test_string, extra_words='\\'')"
   ]
  },
  {
   "cell_type": "markdown",
   "metadata": {},
   "source": [
    "Use your data from the acquire to produce a dataframe of the news articles. Name the dataframe news_df.\n",
    "\n",
    "Make another dataframe for the Codeup blog posts. Name the dataframe codeup_df."
   ]
  },
  {
   "cell_type": "markdown",
   "metadata": {},
   "source": [
    "News Data Frame:"
   ]
  },
  {
   "cell_type": "code",
   "execution_count": 25,
   "metadata": {},
   "outputs": [],
   "source": [
    "news_url = 'https://inshorts.com/en/read'"
   ]
  },
  {
   "cell_type": "code",
   "execution_count": 26,
   "metadata": {},
   "outputs": [
    {
     "name": "stdout",
     "output_type": "stream",
     "text": [
      "<Response [200]>\n",
      "cat articles length:  12\n",
      "length of all_articles:  12\n",
      "<Response [200]>\n",
      "cat articles length:  25\n",
      "length of all_articles:  37\n",
      "<Response [200]>\n",
      "cat articles length:  25\n",
      "length of all_articles:  62\n",
      "<Response [200]>\n",
      "cat articles length:  25\n",
      "length of all_articles:  87\n",
      "<Response [200]>\n",
      "cat articles length:  25\n",
      "length of all_articles:  112\n",
      "<Response [200]>\n",
      "cat articles length:  25\n",
      "length of all_articles:  137\n",
      "<Response [200]>\n",
      "cat articles length:  25\n",
      "length of all_articles:  162\n",
      "<Response [200]>\n",
      "cat articles length:  25\n",
      "length of all_articles:  187\n",
      "<Response [200]>\n",
      "cat articles length:  24\n",
      "length of all_articles:  211\n",
      "<Response [200]>\n",
      "cat articles length:  25\n",
      "length of all_articles:  236\n",
      "<Response [200]>\n",
      "cat articles length:  25\n",
      "length of all_articles:  261\n",
      "<Response [200]>\n",
      "cat articles length:  24\n",
      "length of all_articles:  285\n"
     ]
    }
   ],
   "source": [
    "news_df = get_all_shorts(news_url)"
   ]
  },
  {
   "cell_type": "code",
   "execution_count": 27,
   "metadata": {},
   "outputs": [],
   "source": [
    "news_df = pd.DataFrame(news_df)"
   ]
  },
  {
   "cell_type": "code",
   "execution_count": 16,
   "metadata": {},
   "outputs": [
    {
     "data": {
      "text/html": [
       "<div>\n",
       "<style scoped>\n",
       "    .dataframe tbody tr th:only-of-type {\n",
       "        vertical-align: middle;\n",
       "    }\n",
       "\n",
       "    .dataframe tbody tr th {\n",
       "        vertical-align: top;\n",
       "    }\n",
       "\n",
       "    .dataframe thead th {\n",
       "        text-align: right;\n",
       "    }\n",
       "</style>\n",
       "<table border=\"1\" class=\"dataframe\">\n",
       "  <thead>\n",
       "    <tr style=\"text-align: right;\">\n",
       "      <th></th>\n",
       "      <th>title</th>\n",
       "      <th>category</th>\n",
       "      <th>body</th>\n",
       "    </tr>\n",
       "  </thead>\n",
       "  <tbody>\n",
       "    <tr>\n",
       "      <th>0</th>\n",
       "      <td>India's first Billiards Premier League</td>\n",
       "      <td>india</td>\n",
       "      <td>The Billiards and Snooker Association of Mahar...</td>\n",
       "    </tr>\n",
       "    <tr>\n",
       "      <th>1</th>\n",
       "      <td>Indian Navy gets VLF, easy communication with ...</td>\n",
       "      <td>india</td>\n",
       "      <td>The Indian navy has a new communication system...</td>\n",
       "    </tr>\n",
       "    <tr>\n",
       "      <th>2</th>\n",
       "      <td>Afghanistan wins SAFF title, spoils India's ha...</td>\n",
       "      <td>india</td>\n",
       "      <td>Afghanistan won their maiden-SAFF Football Cha...</td>\n",
       "    </tr>\n",
       "    <tr>\n",
       "      <th>3</th>\n",
       "      <td>Kashmir's famous Dal Lake freezes</td>\n",
       "      <td>india</td>\n",
       "      <td>After the recent snowfall in upper reaches of ...</td>\n",
       "    </tr>\n",
       "    <tr>\n",
       "      <th>4</th>\n",
       "      <td>Samsung launches Galaxy Star 2 Plus at Rs.7,335</td>\n",
       "      <td>india</td>\n",
       "      <td>Samsung has unveiled the Galaxy start 2 Plus s...</td>\n",
       "    </tr>\n",
       "    <tr>\n",
       "      <th>...</th>\n",
       "      <td>...</td>\n",
       "      <td>...</td>\n",
       "      <td>...</td>\n",
       "    </tr>\n",
       "    <tr>\n",
       "      <th>280</th>\n",
       "      <td>Tesla to remove more sensors from cars amid au...</td>\n",
       "      <td>automobile</td>\n",
       "      <td>As Tesla faces autopilot scrutiny, it will onl...</td>\n",
       "    </tr>\n",
       "    <tr>\n",
       "      <th>281</th>\n",
       "      <td>Fix for wheel issue that caused electric car r...</td>\n",
       "      <td>automobile</td>\n",
       "      <td>Toyota Motor said it has found a fix for the d...</td>\n",
       "    </tr>\n",
       "    <tr>\n",
       "      <th>282</th>\n",
       "      <td>Vehicle registrations during festivals doubled...</td>\n",
       "      <td>automobile</td>\n",
       "      <td>Vehicle registrations more than doubled in thi...</td>\n",
       "    </tr>\n",
       "    <tr>\n",
       "      <th>283</th>\n",
       "      <td>Car rental startup Zoomcar may go public via S...</td>\n",
       "      <td>automobile</td>\n",
       "      <td>Bengaluru-based car rental startup Zoomcar has...</td>\n",
       "    </tr>\n",
       "    <tr>\n",
       "      <th>284</th>\n",
       "      <td>Passenger vehicle wholesales rise by 92% in Se...</td>\n",
       "      <td>automobile</td>\n",
       "      <td>Passenger vehicle wholesales in India surged b...</td>\n",
       "    </tr>\n",
       "  </tbody>\n",
       "</table>\n",
       "<p>285 rows × 3 columns</p>\n",
       "</div>"
      ],
      "text/plain": [
       "                                                 title    category  \\\n",
       "0               India's first Billiards Premier League       india   \n",
       "1    Indian Navy gets VLF, easy communication with ...       india   \n",
       "2    Afghanistan wins SAFF title, spoils India's ha...       india   \n",
       "3                    Kashmir's famous Dal Lake freezes       india   \n",
       "4      Samsung launches Galaxy Star 2 Plus at Rs.7,335       india   \n",
       "..                                                 ...         ...   \n",
       "280  Tesla to remove more sensors from cars amid au...  automobile   \n",
       "281  Fix for wheel issue that caused electric car r...  automobile   \n",
       "282  Vehicle registrations during festivals doubled...  automobile   \n",
       "283  Car rental startup Zoomcar may go public via S...  automobile   \n",
       "284  Passenger vehicle wholesales rise by 92% in Se...  automobile   \n",
       "\n",
       "                                                  body  \n",
       "0    The Billiards and Snooker Association of Mahar...  \n",
       "1    The Indian navy has a new communication system...  \n",
       "2    Afghanistan won their maiden-SAFF Football Cha...  \n",
       "3    After the recent snowfall in upper reaches of ...  \n",
       "4    Samsung has unveiled the Galaxy start 2 Plus s...  \n",
       "..                                                 ...  \n",
       "280  As Tesla faces autopilot scrutiny, it will onl...  \n",
       "281  Toyota Motor said it has found a fix for the d...  \n",
       "282  Vehicle registrations more than doubled in thi...  \n",
       "283  Bengaluru-based car rental startup Zoomcar has...  \n",
       "284  Passenger vehicle wholesales in India surged b...  \n",
       "\n",
       "[285 rows x 3 columns]"
      ]
     },
     "execution_count": 16,
     "metadata": {},
     "output_type": "execute_result"
    }
   ],
   "source": [
    "news_df"
   ]
  },
  {
   "cell_type": "markdown",
   "metadata": {},
   "source": [
    "---\n",
    "codeup blogs:"
   ]
  },
  {
   "cell_type": "code",
   "execution_count": 28,
   "metadata": {},
   "outputs": [],
   "source": [
    "blog_url = 'https://codeup.com/blog/'\n"
   ]
  },
  {
   "cell_type": "code",
   "execution_count": 29,
   "metadata": {},
   "outputs": [
    {
     "data": {
      "text/html": [
       "<div>\n",
       "<style scoped>\n",
       "    .dataframe tbody tr th:only-of-type {\n",
       "        vertical-align: middle;\n",
       "    }\n",
       "\n",
       "    .dataframe tbody tr th {\n",
       "        vertical-align: top;\n",
       "    }\n",
       "\n",
       "    .dataframe thead th {\n",
       "        text-align: right;\n",
       "    }\n",
       "</style>\n",
       "<table border=\"1\" class=\"dataframe\">\n",
       "  <thead>\n",
       "    <tr style=\"text-align: right;\">\n",
       "      <th></th>\n",
       "      <th>title</th>\n",
       "      <th>content</th>\n",
       "    </tr>\n",
       "  </thead>\n",
       "  <tbody>\n",
       "    <tr>\n",
       "      <th>0</th>\n",
       "      <td>Coding Bootcamp or Computer Science Degree?</td>\n",
       "      <td>For many people, deciding between a coding boo...</td>\n",
       "    </tr>\n",
       "    <tr>\n",
       "      <th>1</th>\n",
       "      <td>Diversity Equity and Inclusion Report</td>\n",
       "      <td>Codeup is excited to launch our first Diversit...</td>\n",
       "    </tr>\n",
       "    <tr>\n",
       "      <th>2</th>\n",
       "      <td>Codeup Honored as SABJ Diversity and Inclusion...</td>\n",
       "      <td>Codeup has been named the 2022 Diversity and I...</td>\n",
       "    </tr>\n",
       "    <tr>\n",
       "      <th>3</th>\n",
       "      <td>How Can I Finance My Career Transition?</td>\n",
       "      <td>Deciding to transition into a tech career is a...</td>\n",
       "    </tr>\n",
       "    <tr>\n",
       "      <th>4</th>\n",
       "      <td>Tips for Women Beginning a Career in Tech</td>\n",
       "      <td>Codeup strongly values diversity, and inclusio...</td>\n",
       "    </tr>\n",
       "    <tr>\n",
       "      <th>5</th>\n",
       "      <td>What is Cloud Computing and AWS?</td>\n",
       "      <td>With many companies switching to cloud service...</td>\n",
       "    </tr>\n",
       "  </tbody>\n",
       "</table>\n",
       "</div>"
      ],
      "text/plain": [
       "                                               title  \\\n",
       "0        Coding Bootcamp or Computer Science Degree?   \n",
       "1              Diversity Equity and Inclusion Report   \n",
       "2  Codeup Honored as SABJ Diversity and Inclusion...   \n",
       "3            How Can I Finance My Career Transition?   \n",
       "4          Tips for Women Beginning a Career in Tech   \n",
       "5                   What is Cloud Computing and AWS?   \n",
       "\n",
       "                                             content  \n",
       "0  For many people, deciding between a coding boo...  \n",
       "1  Codeup is excited to launch our first Diversit...  \n",
       "2  Codeup has been named the 2022 Diversity and I...  \n",
       "3  Deciding to transition into a tech career is a...  \n",
       "4  Codeup strongly values diversity, and inclusio...  \n",
       "5  With many companies switching to cloud service...  "
      ]
     },
     "execution_count": 29,
     "metadata": {},
     "output_type": "execute_result"
    }
   ],
   "source": [
    "codeup_df = pd.DataFrame(get_blog_content(blog_url))\n",
    "codeup_df"
   ]
  },
  {
   "cell_type": "markdown",
   "metadata": {},
   "source": [
    "-----"
   ]
  },
  {
   "cell_type": "markdown",
   "metadata": {},
   "source": [
    "For each dataframe, produce the following columns:\n",
    "\n",
    "- title to hold the title\n",
    "- original to hold the original article/post content\n",
    "- clean to hold the normalized and tokenized original with the stopwords removed.\n",
    "- stemmed to hold the stemmed version of the cleaned data.\n",
    "- lemmatized to hold the lemmatized version of the cleaned data."
   ]
  },
  {
   "cell_type": "code",
   "execution_count": 30,
   "metadata": {},
   "outputs": [
    {
     "data": {
      "text/html": [
       "<div>\n",
       "<style scoped>\n",
       "    .dataframe tbody tr th:only-of-type {\n",
       "        vertical-align: middle;\n",
       "    }\n",
       "\n",
       "    .dataframe tbody tr th {\n",
       "        vertical-align: top;\n",
       "    }\n",
       "\n",
       "    .dataframe thead th {\n",
       "        text-align: right;\n",
       "    }\n",
       "</style>\n",
       "<table border=\"1\" class=\"dataframe\">\n",
       "  <thead>\n",
       "    <tr style=\"text-align: right;\">\n",
       "      <th></th>\n",
       "      <th>title</th>\n",
       "      <th>body</th>\n",
       "    </tr>\n",
       "  </thead>\n",
       "  <tbody>\n",
       "    <tr>\n",
       "      <th>0</th>\n",
       "      <td>Afghanistan wins SAFF title, spoils India's ha...</td>\n",
       "      <td>Afghanistan won their maiden-SAFF Football Cha...</td>\n",
       "    </tr>\n",
       "    <tr>\n",
       "      <th>1</th>\n",
       "      <td>Nigerian weightlifter in dope net, India may gain</td>\n",
       "      <td>India may move up after Nigerian weightlifter ...</td>\n",
       "    </tr>\n",
       "    <tr>\n",
       "      <th>2</th>\n",
       "      <td>India beat NZ 3-2 to enter CWG hockey finals</td>\n",
       "      <td>In the CWG men's hockey semi-final against New...</td>\n",
       "    </tr>\n",
       "    <tr>\n",
       "      <th>3</th>\n",
       "      <td>India's first Billiards Premier League</td>\n",
       "      <td>The Billiards and Snooker Association of Mahar...</td>\n",
       "    </tr>\n",
       "    <tr>\n",
       "      <th>4</th>\n",
       "      <td>Infosys Gifts Sikka Shares Worth Rs 8.2cr</td>\n",
       "      <td>In a regulatory filing to the BSE on Friday, I...</td>\n",
       "    </tr>\n",
       "  </tbody>\n",
       "</table>\n",
       "</div>"
      ],
      "text/plain": [
       "                                               title  \\\n",
       "0  Afghanistan wins SAFF title, spoils India's ha...   \n",
       "1  Nigerian weightlifter in dope net, India may gain   \n",
       "2       India beat NZ 3-2 to enter CWG hockey finals   \n",
       "3             India's first Billiards Premier League   \n",
       "4          Infosys Gifts Sikka Shares Worth Rs 8.2cr   \n",
       "\n",
       "                                                body  \n",
       "0  Afghanistan won their maiden-SAFF Football Cha...  \n",
       "1  India may move up after Nigerian weightlifter ...  \n",
       "2  In the CWG men's hockey semi-final against New...  \n",
       "3  The Billiards and Snooker Association of Mahar...  \n",
       "4  In a regulatory filing to the BSE on Friday, I...  "
      ]
     },
     "execution_count": 30,
     "metadata": {},
     "output_type": "execute_result"
    }
   ],
   "source": [
    "# News:\n",
    "news_df.head()\n",
    "del news_df['category']\n",
    "news_df.head(1)"
   ]
  },
  {
   "cell_type": "code",
   "execution_count": 31,
   "metadata": {},
   "outputs": [
    {
     "data": {
      "text/html": [
       "<div>\n",
       "<style scoped>\n",
       "    .dataframe tbody tr th:only-of-type {\n",
       "        vertical-align: middle;\n",
       "    }\n",
       "\n",
       "    .dataframe tbody tr th {\n",
       "        vertical-align: top;\n",
       "    }\n",
       "\n",
       "    .dataframe thead th {\n",
       "        text-align: right;\n",
       "    }\n",
       "</style>\n",
       "<table border=\"1\" class=\"dataframe\">\n",
       "  <thead>\n",
       "    <tr style=\"text-align: right;\">\n",
       "      <th></th>\n",
       "      <th>title</th>\n",
       "      <th>body</th>\n",
       "    </tr>\n",
       "  </thead>\n",
       "  <tbody>\n",
       "    <tr>\n",
       "      <th>0</th>\n",
       "      <td>Afghanistan wins SAFF title, spoils India's ha...</td>\n",
       "      <td>Afghanistan won their maiden-SAFF Football Cha...</td>\n",
       "    </tr>\n",
       "    <tr>\n",
       "      <th>1</th>\n",
       "      <td>Nigerian weightlifter in dope net, India may gain</td>\n",
       "      <td>India may move up after Nigerian weightlifter ...</td>\n",
       "    </tr>\n",
       "    <tr>\n",
       "      <th>2</th>\n",
       "      <td>India beat NZ 3-2 to enter CWG hockey finals</td>\n",
       "      <td>In the CWG men's hockey semi-final against New...</td>\n",
       "    </tr>\n",
       "    <tr>\n",
       "      <th>3</th>\n",
       "      <td>India's first Billiards Premier League</td>\n",
       "      <td>The Billiards and Snooker Association of Mahar...</td>\n",
       "    </tr>\n",
       "    <tr>\n",
       "      <th>4</th>\n",
       "      <td>Infosys Gifts Sikka Shares Worth Rs 8.2cr</td>\n",
       "      <td>In a regulatory filing to the BSE on Friday, I...</td>\n",
       "    </tr>\n",
       "  </tbody>\n",
       "</table>\n",
       "</div>"
      ],
      "text/plain": [
       "                                               title  \\\n",
       "0  Afghanistan wins SAFF title, spoils India's ha...   \n",
       "1  Nigerian weightlifter in dope net, India may gain   \n",
       "2       India beat NZ 3-2 to enter CWG hockey finals   \n",
       "3             India's first Billiards Premier League   \n",
       "4          Infosys Gifts Sikka Shares Worth Rs 8.2cr   \n",
       "\n",
       "                                                body  \n",
       "0  Afghanistan won their maiden-SAFF Football Cha...  \n",
       "1  India may move up after Nigerian weightlifter ...  \n",
       "2  In the CWG men's hockey semi-final against New...  \n",
       "3  The Billiards and Snooker Association of Mahar...  \n",
       "4  In a regulatory filing to the BSE on Friday, I...  "
      ]
     },
     "execution_count": 31,
     "metadata": {},
     "output_type": "execute_result"
    }
   ],
   "source": [
    "news_df = news_df.rename(columns={\"body\": \"original\"})\n",
    "news_df.head(1)"
   ]
  },
  {
   "cell_type": "code",
   "execution_count": 63,
   "metadata": {},
   "outputs": [],
   "source": [
    "for r in news_df.index:\n",
    "    news_df.loc[r, \"clean\"] = remove_stopwords(tokenize(basic_clean(news_df.loc[r, 'original'])), extra_words='\\'')"
   ]
  },
  {
   "cell_type": "code",
   "execution_count": 65,
   "metadata": {},
   "outputs": [
    {
     "data": {
      "text/html": [
       "<div>\n",
       "<style scoped>\n",
       "    .dataframe tbody tr th:only-of-type {\n",
       "        vertical-align: middle;\n",
       "    }\n",
       "\n",
       "    .dataframe tbody tr th {\n",
       "        vertical-align: top;\n",
       "    }\n",
       "\n",
       "    .dataframe thead th {\n",
       "        text-align: right;\n",
       "    }\n",
       "</style>\n",
       "<table border=\"1\" class=\"dataframe\">\n",
       "  <thead>\n",
       "    <tr style=\"text-align: right;\">\n",
       "      <th></th>\n",
       "      <th>title</th>\n",
       "      <th>body</th>\n",
       "      <th>clean</th>\n",
       "    </tr>\n",
       "  </thead>\n",
       "  <tbody>\n",
       "    <tr>\n",
       "      <th>0</th>\n",
       "      <td>Afghanistan wins SAFF title, spoils India's ha...</td>\n",
       "      <td>Afghanistan won their maiden-SAFF Football Cha...</td>\n",
       "      <td>afghanistan maidensaff football championship d...</td>\n",
       "    </tr>\n",
       "    <tr>\n",
       "      <th>1</th>\n",
       "      <td>Nigerian weightlifter in dope net, India may gain</td>\n",
       "      <td>India may move up after Nigerian weightlifter ...</td>\n",
       "      <td>india may move nigerian weightlifter chika ama...</td>\n",
       "    </tr>\n",
       "  </tbody>\n",
       "</table>\n",
       "</div>"
      ],
      "text/plain": [
       "                                               title  \\\n",
       "0  Afghanistan wins SAFF title, spoils India's ha...   \n",
       "1  Nigerian weightlifter in dope net, India may gain   \n",
       "\n",
       "                                                body  \\\n",
       "0  Afghanistan won their maiden-SAFF Football Cha...   \n",
       "1  India may move up after Nigerian weightlifter ...   \n",
       "\n",
       "                                               clean  \n",
       "0  afghanistan maidensaff football championship d...  \n",
       "1  india may move nigerian weightlifter chika ama...  "
      ]
     },
     "execution_count": 65,
     "metadata": {},
     "output_type": "execute_result"
    }
   ],
   "source": [
    "news_df.head(2)"
   ]
  },
  {
   "cell_type": "code",
   "execution_count": 66,
   "metadata": {},
   "outputs": [],
   "source": [
    "for r in news_df.index:\n",
    "    news_df.loc[r, \"stemmed\"] = stem(news_df.loc[r, 'clean'])"
   ]
  },
  {
   "cell_type": "code",
   "execution_count": 67,
   "metadata": {},
   "outputs": [
    {
     "data": {
      "text/html": [
       "<div>\n",
       "<style scoped>\n",
       "    .dataframe tbody tr th:only-of-type {\n",
       "        vertical-align: middle;\n",
       "    }\n",
       "\n",
       "    .dataframe tbody tr th {\n",
       "        vertical-align: top;\n",
       "    }\n",
       "\n",
       "    .dataframe thead th {\n",
       "        text-align: right;\n",
       "    }\n",
       "</style>\n",
       "<table border=\"1\" class=\"dataframe\">\n",
       "  <thead>\n",
       "    <tr style=\"text-align: right;\">\n",
       "      <th></th>\n",
       "      <th>title</th>\n",
       "      <th>body</th>\n",
       "      <th>clean</th>\n",
       "      <th>stemmed</th>\n",
       "    </tr>\n",
       "  </thead>\n",
       "  <tbody>\n",
       "    <tr>\n",
       "      <th>0</th>\n",
       "      <td>Afghanistan wins SAFF title, spoils India's ha...</td>\n",
       "      <td>Afghanistan won their maiden-SAFF Football Cha...</td>\n",
       "      <td>afghanistan maidensaff football championship d...</td>\n",
       "      <td>afghanistan maidensaff footbal championship de...</td>\n",
       "    </tr>\n",
       "    <tr>\n",
       "      <th>1</th>\n",
       "      <td>Nigerian weightlifter in dope net, India may gain</td>\n",
       "      <td>India may move up after Nigerian weightlifter ...</td>\n",
       "      <td>india may move nigerian weightlifter chika ama...</td>\n",
       "      <td>india may move nigerian weightlift chika amala...</td>\n",
       "    </tr>\n",
       "  </tbody>\n",
       "</table>\n",
       "</div>"
      ],
      "text/plain": [
       "                                               title  \\\n",
       "0  Afghanistan wins SAFF title, spoils India's ha...   \n",
       "1  Nigerian weightlifter in dope net, India may gain   \n",
       "\n",
       "                                                body  \\\n",
       "0  Afghanistan won their maiden-SAFF Football Cha...   \n",
       "1  India may move up after Nigerian weightlifter ...   \n",
       "\n",
       "                                               clean  \\\n",
       "0  afghanistan maidensaff football championship d...   \n",
       "1  india may move nigerian weightlifter chika ama...   \n",
       "\n",
       "                                             stemmed  \n",
       "0  afghanistan maidensaff footbal championship de...  \n",
       "1  india may move nigerian weightlift chika amala...  "
      ]
     },
     "execution_count": 67,
     "metadata": {},
     "output_type": "execute_result"
    }
   ],
   "source": [
    "news_df.head(2)"
   ]
  },
  {
   "cell_type": "code",
   "execution_count": 68,
   "metadata": {},
   "outputs": [],
   "source": [
    "for r in news_df.index:\n",
    "    news_df.loc[r, \"lemmatized\"] = lemmatize(news_df.loc[r, 'clean'])"
   ]
  },
  {
   "cell_type": "code",
   "execution_count": 69,
   "metadata": {},
   "outputs": [
    {
     "data": {
      "text/html": [
       "<div>\n",
       "<style scoped>\n",
       "    .dataframe tbody tr th:only-of-type {\n",
       "        vertical-align: middle;\n",
       "    }\n",
       "\n",
       "    .dataframe tbody tr th {\n",
       "        vertical-align: top;\n",
       "    }\n",
       "\n",
       "    .dataframe thead th {\n",
       "        text-align: right;\n",
       "    }\n",
       "</style>\n",
       "<table border=\"1\" class=\"dataframe\">\n",
       "  <thead>\n",
       "    <tr style=\"text-align: right;\">\n",
       "      <th></th>\n",
       "      <th>title</th>\n",
       "      <th>body</th>\n",
       "      <th>clean</th>\n",
       "      <th>stemmed</th>\n",
       "      <th>lemmatized</th>\n",
       "    </tr>\n",
       "  </thead>\n",
       "  <tbody>\n",
       "    <tr>\n",
       "      <th>0</th>\n",
       "      <td>Afghanistan wins SAFF title, spoils India's ha...</td>\n",
       "      <td>Afghanistan won their maiden-SAFF Football Cha...</td>\n",
       "      <td>afghanistan maidensaff football championship d...</td>\n",
       "      <td>afghanistan maidensaff footbal championship de...</td>\n",
       "      <td>afghanistan maidensaff football championship d...</td>\n",
       "    </tr>\n",
       "    <tr>\n",
       "      <th>1</th>\n",
       "      <td>Nigerian weightlifter in dope net, India may gain</td>\n",
       "      <td>India may move up after Nigerian weightlifter ...</td>\n",
       "      <td>india may move nigerian weightlifter chika ama...</td>\n",
       "      <td>india may move nigerian weightlift chika amala...</td>\n",
       "      <td>india may move nigerian weightlifter chika ama...</td>\n",
       "    </tr>\n",
       "    <tr>\n",
       "      <th>2</th>\n",
       "      <td>India beat NZ 3-2 to enter CWG hockey finals</td>\n",
       "      <td>In the CWG men's hockey semi-final against New...</td>\n",
       "      <td>cwg men hockey semifinal new zealand saturday ...</td>\n",
       "      <td>cwg men hockey semifin new zealand saturday in...</td>\n",
       "      <td>cwg men hockey semifinal new zealand saturday ...</td>\n",
       "    </tr>\n",
       "    <tr>\n",
       "      <th>3</th>\n",
       "      <td>India's first Billiards Premier League</td>\n",
       "      <td>The Billiards and Snooker Association of Mahar...</td>\n",
       "      <td>billiards snooker association maharashtrabsam ...</td>\n",
       "      <td>billiard snooker associ maharashtrabsam decid ...</td>\n",
       "      <td>billiards snooker association maharashtrabsam ...</td>\n",
       "    </tr>\n",
       "    <tr>\n",
       "      <th>4</th>\n",
       "      <td>Infosys Gifts Sikka Shares Worth Rs 8.2cr</td>\n",
       "      <td>In a regulatory filing to the BSE on Friday, I...</td>\n",
       "      <td>regulatory filing bse friday infosys ltd decid...</td>\n",
       "      <td>regulatori file bse friday infosi ltd decid gi...</td>\n",
       "      <td>regulatory filing bse friday infosys ltd decid...</td>\n",
       "    </tr>\n",
       "  </tbody>\n",
       "</table>\n",
       "</div>"
      ],
      "text/plain": [
       "                                               title  \\\n",
       "0  Afghanistan wins SAFF title, spoils India's ha...   \n",
       "1  Nigerian weightlifter in dope net, India may gain   \n",
       "2       India beat NZ 3-2 to enter CWG hockey finals   \n",
       "3             India's first Billiards Premier League   \n",
       "4          Infosys Gifts Sikka Shares Worth Rs 8.2cr   \n",
       "\n",
       "                                                body  \\\n",
       "0  Afghanistan won their maiden-SAFF Football Cha...   \n",
       "1  India may move up after Nigerian weightlifter ...   \n",
       "2  In the CWG men's hockey semi-final against New...   \n",
       "3  The Billiards and Snooker Association of Mahar...   \n",
       "4  In a regulatory filing to the BSE on Friday, I...   \n",
       "\n",
       "                                               clean  \\\n",
       "0  afghanistan maidensaff football championship d...   \n",
       "1  india may move nigerian weightlifter chika ama...   \n",
       "2  cwg men hockey semifinal new zealand saturday ...   \n",
       "3  billiards snooker association maharashtrabsam ...   \n",
       "4  regulatory filing bse friday infosys ltd decid...   \n",
       "\n",
       "                                             stemmed  \\\n",
       "0  afghanistan maidensaff footbal championship de...   \n",
       "1  india may move nigerian weightlift chika amala...   \n",
       "2  cwg men hockey semifin new zealand saturday in...   \n",
       "3  billiard snooker associ maharashtrabsam decid ...   \n",
       "4  regulatori file bse friday infosi ltd decid gi...   \n",
       "\n",
       "                                          lemmatized  \n",
       "0  afghanistan maidensaff football championship d...  \n",
       "1  india may move nigerian weightlifter chika ama...  \n",
       "2  cwg men hockey semifinal new zealand saturday ...  \n",
       "3  billiards snooker association maharashtrabsam ...  \n",
       "4  regulatory filing bse friday infosys ltd decid...  "
      ]
     },
     "execution_count": 69,
     "metadata": {},
     "output_type": "execute_result"
    }
   ],
   "source": [
    "news_df.head()"
   ]
  },
  {
   "cell_type": "markdown",
   "metadata": {},
   "source": [
    "For each dataframe, produce the following columns:\n",
    "\n",
    "- title to hold the title\n",
    "- original to hold the original article/post content\n",
    "- clean to hold the normalized and tokenized original with the stopwords removed.\n",
    "- stemmed to hold the stemmed version of the cleaned data.\n",
    "- lemmatized to hold the lemmatized version of the cleaned data."
   ]
  },
  {
   "cell_type": "code",
   "execution_count": 73,
   "metadata": {},
   "outputs": [
    {
     "data": {
      "text/html": [
       "<div>\n",
       "<style scoped>\n",
       "    .dataframe tbody tr th:only-of-type {\n",
       "        vertical-align: middle;\n",
       "    }\n",
       "\n",
       "    .dataframe tbody tr th {\n",
       "        vertical-align: top;\n",
       "    }\n",
       "\n",
       "    .dataframe thead th {\n",
       "        text-align: right;\n",
       "    }\n",
       "</style>\n",
       "<table border=\"1\" class=\"dataframe\">\n",
       "  <thead>\n",
       "    <tr style=\"text-align: right;\">\n",
       "      <th></th>\n",
       "      <th>title</th>\n",
       "      <th>original</th>\n",
       "    </tr>\n",
       "  </thead>\n",
       "  <tbody>\n",
       "    <tr>\n",
       "      <th>0</th>\n",
       "      <td>Coding Bootcamp or Computer Science Degree?</td>\n",
       "      <td>For many people, deciding between a coding boo...</td>\n",
       "    </tr>\n",
       "    <tr>\n",
       "      <th>1</th>\n",
       "      <td>Diversity Equity and Inclusion Report</td>\n",
       "      <td>Codeup is excited to launch our first Diversit...</td>\n",
       "    </tr>\n",
       "    <tr>\n",
       "      <th>2</th>\n",
       "      <td>Codeup Honored as SABJ Diversity and Inclusion...</td>\n",
       "      <td>Codeup has been named the 2022 Diversity and I...</td>\n",
       "    </tr>\n",
       "    <tr>\n",
       "      <th>3</th>\n",
       "      <td>How Can I Finance My Career Transition?</td>\n",
       "      <td>Deciding to transition into a tech career is a...</td>\n",
       "    </tr>\n",
       "    <tr>\n",
       "      <th>4</th>\n",
       "      <td>Tips for Women Beginning a Career in Tech</td>\n",
       "      <td>Codeup strongly values diversity, and inclusio...</td>\n",
       "    </tr>\n",
       "  </tbody>\n",
       "</table>\n",
       "</div>"
      ],
      "text/plain": [
       "                                               title  \\\n",
       "0        Coding Bootcamp or Computer Science Degree?   \n",
       "1              Diversity Equity and Inclusion Report   \n",
       "2  Codeup Honored as SABJ Diversity and Inclusion...   \n",
       "3            How Can I Finance My Career Transition?   \n",
       "4          Tips for Women Beginning a Career in Tech   \n",
       "\n",
       "                                            original  \n",
       "0  For many people, deciding between a coding boo...  \n",
       "1  Codeup is excited to launch our first Diversit...  \n",
       "2  Codeup has been named the 2022 Diversity and I...  \n",
       "3  Deciding to transition into a tech career is a...  \n",
       "4  Codeup strongly values diversity, and inclusio...  "
      ]
     },
     "execution_count": 73,
     "metadata": {},
     "output_type": "execute_result"
    }
   ],
   "source": [
    "# Blog Dataframes:\n",
    "codeup_df.head(1)\n",
    "codeup_df = codeup_df.rename(columns={\"content\": \"original\"})\n",
    "codeup_df.head()"
   ]
  },
  {
   "cell_type": "code",
   "execution_count": 74,
   "metadata": {},
   "outputs": [
    {
     "data": {
      "text/html": [
       "<div>\n",
       "<style scoped>\n",
       "    .dataframe tbody tr th:only-of-type {\n",
       "        vertical-align: middle;\n",
       "    }\n",
       "\n",
       "    .dataframe tbody tr th {\n",
       "        vertical-align: top;\n",
       "    }\n",
       "\n",
       "    .dataframe thead th {\n",
       "        text-align: right;\n",
       "    }\n",
       "</style>\n",
       "<table border=\"1\" class=\"dataframe\">\n",
       "  <thead>\n",
       "    <tr style=\"text-align: right;\">\n",
       "      <th></th>\n",
       "      <th>title</th>\n",
       "      <th>original</th>\n",
       "      <th>clean</th>\n",
       "    </tr>\n",
       "  </thead>\n",
       "  <tbody>\n",
       "    <tr>\n",
       "      <th>0</th>\n",
       "      <td>Coding Bootcamp or Computer Science Degree?</td>\n",
       "      <td>For many people, deciding between a coding boo...</td>\n",
       "      <td>many people deciding coding bootcamp computer ...</td>\n",
       "    </tr>\n",
       "    <tr>\n",
       "      <th>1</th>\n",
       "      <td>Diversity Equity and Inclusion Report</td>\n",
       "      <td>Codeup is excited to launch our first Diversit...</td>\n",
       "      <td>codeup excited launch first diversity equity i...</td>\n",
       "    </tr>\n",
       "  </tbody>\n",
       "</table>\n",
       "</div>"
      ],
      "text/plain": [
       "                                         title  \\\n",
       "0  Coding Bootcamp or Computer Science Degree?   \n",
       "1        Diversity Equity and Inclusion Report   \n",
       "\n",
       "                                            original  \\\n",
       "0  For many people, deciding between a coding boo...   \n",
       "1  Codeup is excited to launch our first Diversit...   \n",
       "\n",
       "                                               clean  \n",
       "0  many people deciding coding bootcamp computer ...  \n",
       "1  codeup excited launch first diversity equity i...  "
      ]
     },
     "execution_count": 74,
     "metadata": {},
     "output_type": "execute_result"
    }
   ],
   "source": [
    "for r in codeup_df.index:\n",
    "    codeup_df.loc[r, \"clean\"] = remove_stopwords(tokenize(basic_clean(codeup_df.loc[r, 'original'])), extra_words='\\'')\n",
    "\n",
    "codeup_df.head(2)"
   ]
  },
  {
   "cell_type": "code",
   "execution_count": 75,
   "metadata": {},
   "outputs": [
    {
     "data": {
      "text/html": [
       "<div>\n",
       "<style scoped>\n",
       "    .dataframe tbody tr th:only-of-type {\n",
       "        vertical-align: middle;\n",
       "    }\n",
       "\n",
       "    .dataframe tbody tr th {\n",
       "        vertical-align: top;\n",
       "    }\n",
       "\n",
       "    .dataframe thead th {\n",
       "        text-align: right;\n",
       "    }\n",
       "</style>\n",
       "<table border=\"1\" class=\"dataframe\">\n",
       "  <thead>\n",
       "    <tr style=\"text-align: right;\">\n",
       "      <th></th>\n",
       "      <th>title</th>\n",
       "      <th>original</th>\n",
       "      <th>clean</th>\n",
       "      <th>stemmed</th>\n",
       "    </tr>\n",
       "  </thead>\n",
       "  <tbody>\n",
       "    <tr>\n",
       "      <th>0</th>\n",
       "      <td>Coding Bootcamp or Computer Science Degree?</td>\n",
       "      <td>For many people, deciding between a coding boo...</td>\n",
       "      <td>many people deciding coding bootcamp computer ...</td>\n",
       "      <td>mani peopl decid code bootcamp comput scienc d...</td>\n",
       "    </tr>\n",
       "    <tr>\n",
       "      <th>1</th>\n",
       "      <td>Diversity Equity and Inclusion Report</td>\n",
       "      <td>Codeup is excited to launch our first Diversit...</td>\n",
       "      <td>codeup excited launch first diversity equity i...</td>\n",
       "      <td>codeup excit launch first divers equiti inclus...</td>\n",
       "    </tr>\n",
       "  </tbody>\n",
       "</table>\n",
       "</div>"
      ],
      "text/plain": [
       "                                         title  \\\n",
       "0  Coding Bootcamp or Computer Science Degree?   \n",
       "1        Diversity Equity and Inclusion Report   \n",
       "\n",
       "                                            original  \\\n",
       "0  For many people, deciding between a coding boo...   \n",
       "1  Codeup is excited to launch our first Diversit...   \n",
       "\n",
       "                                               clean  \\\n",
       "0  many people deciding coding bootcamp computer ...   \n",
       "1  codeup excited launch first diversity equity i...   \n",
       "\n",
       "                                             stemmed  \n",
       "0  mani peopl decid code bootcamp comput scienc d...  \n",
       "1  codeup excit launch first divers equiti inclus...  "
      ]
     },
     "execution_count": 75,
     "metadata": {},
     "output_type": "execute_result"
    }
   ],
   "source": [
    "for r in codeup_df.index:\n",
    "    codeup_df.loc[r, \"stemmed\"] = stem(codeup_df.loc[r, 'clean'])\n",
    "\n",
    "codeup_df.head(2)"
   ]
  },
  {
   "cell_type": "code",
   "execution_count": 78,
   "metadata": {},
   "outputs": [
    {
     "data": {
      "text/html": [
       "<div>\n",
       "<style scoped>\n",
       "    .dataframe tbody tr th:only-of-type {\n",
       "        vertical-align: middle;\n",
       "    }\n",
       "\n",
       "    .dataframe tbody tr th {\n",
       "        vertical-align: top;\n",
       "    }\n",
       "\n",
       "    .dataframe thead th {\n",
       "        text-align: right;\n",
       "    }\n",
       "</style>\n",
       "<table border=\"1\" class=\"dataframe\">\n",
       "  <thead>\n",
       "    <tr style=\"text-align: right;\">\n",
       "      <th></th>\n",
       "      <th>title</th>\n",
       "      <th>original</th>\n",
       "      <th>clean</th>\n",
       "      <th>stemmed</th>\n",
       "      <th>lemmatized</th>\n",
       "    </tr>\n",
       "  </thead>\n",
       "  <tbody>\n",
       "    <tr>\n",
       "      <th>0</th>\n",
       "      <td>Coding Bootcamp or Computer Science Degree?</td>\n",
       "      <td>For many people, deciding between a coding boo...</td>\n",
       "      <td>many people deciding coding bootcamp computer ...</td>\n",
       "      <td>mani peopl decid code bootcamp comput scienc d...</td>\n",
       "      <td>many people deciding coding bootcamp computer ...</td>\n",
       "    </tr>\n",
       "    <tr>\n",
       "      <th>1</th>\n",
       "      <td>Diversity Equity and Inclusion Report</td>\n",
       "      <td>Codeup is excited to launch our first Diversit...</td>\n",
       "      <td>codeup excited launch first diversity equity i...</td>\n",
       "      <td>codeup excit launch first divers equiti inclus...</td>\n",
       "      <td>codeup excited launch first diversity equity i...</td>\n",
       "    </tr>\n",
       "  </tbody>\n",
       "</table>\n",
       "</div>"
      ],
      "text/plain": [
       "                                         title  \\\n",
       "0  Coding Bootcamp or Computer Science Degree?   \n",
       "1        Diversity Equity and Inclusion Report   \n",
       "\n",
       "                                            original  \\\n",
       "0  For many people, deciding between a coding boo...   \n",
       "1  Codeup is excited to launch our first Diversit...   \n",
       "\n",
       "                                               clean  \\\n",
       "0  many people deciding coding bootcamp computer ...   \n",
       "1  codeup excited launch first diversity equity i...   \n",
       "\n",
       "                                             stemmed  \\\n",
       "0  mani peopl decid code bootcamp comput scienc d...   \n",
       "1  codeup excit launch first divers equiti inclus...   \n",
       "\n",
       "                                          lemmatized  \n",
       "0  many people deciding coding bootcamp computer ...  \n",
       "1  codeup excited launch first diversity equity i...  "
      ]
     },
     "execution_count": 78,
     "metadata": {},
     "output_type": "execute_result"
    }
   ],
   "source": [
    "for r in codeup_df.index:\n",
    "    codeup_df.loc[r, \"lemmatized\"] = lemmatize(codeup_df.loc[r, 'clean'])\n",
    "\n",
    "codeup_df.head(2)"
   ]
  },
  {
   "cell_type": "code",
   "execution_count": 82,
   "metadata": {},
   "outputs": [
    {
     "data": {
      "text/plain": [
       "\"Testing if this is even running through any sort of word hunt in an orderly fashion or if it's just fashioning word it feel like, aka: keeping them all.\""
      ]
     },
     "execution_count": 82,
     "metadata": {},
     "output_type": "execute_result"
    }
   ],
   "source": [
    "lemmatize(\"Testing if this is even running through any sort of word hunt in an orderly fashion or if it's just fashioning words it feels like, aka: keeping them all.\")"
   ]
  },
  {
   "cell_type": "markdown",
   "metadata": {},
   "source": [
    "Ask yourself:\n",
    "\n",
    "- If your corpus is 493KB, would you prefer to use stemmed or lemmatized text? \n",
    "    >For Smaller Data I'd prefer Lemmatizing, it actually creates real words even if it doesn't completely root word them.\n",
    "- If your corpus is 25MB, would you prefer to use stemmed or lemmatized text?\n",
    "    >This is still a bit of a smaller data, so I'd still stay with Lemmatizing it.\n",
    "- If your corpus is 200TB of text and you're charged by the megabyte for your hosted computational resources, would you prefer to use stemmed or lemmatized text?\n",
    "    > Since this is a larger data chunk, and we have limited computational resources, using stemmed would make more sense logistically, even though it doesn't create as normal/readable words as lemmatizing does."
   ]
  }
 ],
 "metadata": {
  "kernelspec": {
   "display_name": "Python 3.9.12 ('base')",
   "language": "python",
   "name": "python3"
  },
  "language_info": {
   "codemirror_mode": {
    "name": "ipython",
    "version": 3
   },
   "file_extension": ".py",
   "mimetype": "text/x-python",
   "name": "python",
   "nbconvert_exporter": "python",
   "pygments_lexer": "ipython3",
   "version": "3.9.12"
  },
  "orig_nbformat": 4,
  "vscode": {
   "interpreter": {
    "hash": "3067ead486e059ec00ffe7555bdb889e6e264a24dc711bf108106cc7baee8d5d"
   }
  }
 },
 "nbformat": 4,
 "nbformat_minor": 2
}
